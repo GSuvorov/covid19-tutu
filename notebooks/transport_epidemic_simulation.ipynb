{
 "cells": [
  {
   "cell_type": "code",
   "execution_count": 28,
   "metadata": {},
   "outputs": [],
   "source": [
    "import numpy as np\n",
    "import pandas as pd\n",
    "import matplotlib.pyplot as plt\n",
    "%matplotlib inline\n",
    "import igraph\n",
    "from supervenn import supervenn\n",
    "from covid19.core import model\n",
    "import tqdm"
   ]
  },
  {
   "cell_type": "code",
   "execution_count": 2,
   "metadata": {},
   "outputs": [],
   "source": [
    "path_cities = '../data/cities.csv'\n",
    "path_trf = '../data/transport_traffic.csv'"
   ]
  },
  {
   "cell_type": "code",
   "execution_count": 3,
   "metadata": {},
   "outputs": [],
   "source": [
    "data = pd.read_csv(path_trf)"
   ]
  },
  {
   "cell_type": "code",
   "execution_count": 4,
   "metadata": {},
   "outputs": [
    {
     "data": {
      "text/html": [
       "<div>\n",
       "<style scoped>\n",
       "    .dataframe tbody tr th:only-of-type {\n",
       "        vertical-align: middle;\n",
       "    }\n",
       "\n",
       "    .dataframe tbody tr th {\n",
       "        vertical-align: top;\n",
       "    }\n",
       "\n",
       "    .dataframe thead th {\n",
       "        text-align: right;\n",
       "    }\n",
       "</style>\n",
       "<table border=\"1\" class=\"dataframe\">\n",
       "  <thead>\n",
       "    <tr style=\"text-align: right;\">\n",
       "      <th></th>\n",
       "      <th>transport</th>\n",
       "      <th>departure</th>\n",
       "      <th>arrival</th>\n",
       "      <th>passengers</th>\n",
       "    </tr>\n",
       "  </thead>\n",
       "  <tbody>\n",
       "    <tr>\n",
       "      <th>0</th>\n",
       "      <td>avia</td>\n",
       "      <td>Москва</td>\n",
       "      <td>Симферополь (Крым)</td>\n",
       "      <td>159441</td>\n",
       "    </tr>\n",
       "    <tr>\n",
       "      <th>1</th>\n",
       "      <td>avia</td>\n",
       "      <td>Москва</td>\n",
       "      <td>Сочи</td>\n",
       "      <td>149299</td>\n",
       "    </tr>\n",
       "    <tr>\n",
       "      <th>2</th>\n",
       "      <td>avia</td>\n",
       "      <td>Симферополь (Крым)</td>\n",
       "      <td>Москва</td>\n",
       "      <td>155822</td>\n",
       "    </tr>\n",
       "    <tr>\n",
       "      <th>3</th>\n",
       "      <td>avia</td>\n",
       "      <td>Сочи</td>\n",
       "      <td>Москва</td>\n",
       "      <td>143298</td>\n",
       "    </tr>\n",
       "    <tr>\n",
       "      <th>4</th>\n",
       "      <td>avia</td>\n",
       "      <td>Санкт-Петербург</td>\n",
       "      <td>Москва</td>\n",
       "      <td>135749</td>\n",
       "    </tr>\n",
       "  </tbody>\n",
       "</table>\n",
       "</div>"
      ],
      "text/plain": [
       "  transport           departure             arrival  passengers\n",
       "0      avia              Москва  Симферополь (Крым)      159441\n",
       "1      avia              Москва                Сочи      149299\n",
       "2      avia  Симферополь (Крым)              Москва      155822\n",
       "3      avia                Сочи              Москва      143298\n",
       "4      avia     Санкт-Петербург              Москва      135749"
      ]
     },
     "execution_count": 4,
     "metadata": {},
     "output_type": "execute_result"
    }
   ],
   "source": [
    "data.head()"
   ]
  },
  {
   "cell_type": "code",
   "execution_count": 5,
   "metadata": {},
   "outputs": [
    {
     "data": {
      "image/png": "[encoded data removed]",
      "text/plain": [
       "<Figure size 576x360 with 4 Axes>"
      ]
     },
     "metadata": {
      "needs_background": "light"
     },
     "output_type": "display_data"
    }
   ],
   "source": [
    "sets = [set(data['departure'].unique()), set(data['arrival'].unique())]\n",
    "supervenn(sets, set_annotations=['departure', 'arrival'])"
   ]
  },
  {
   "cell_type": "code",
   "execution_count": 6,
   "metadata": {},
   "outputs": [
    {
     "data": {
      "text/plain": [
       "array(['avia', 'bus', 'train'], dtype=object)"
      ]
     },
     "execution_count": 6,
     "metadata": {},
     "output_type": "execute_result"
    }
   ],
   "source": [
    "data['transport'].unique()"
   ]
  },
  {
   "cell_type": "code",
   "execution_count": 7,
   "metadata": {},
   "outputs": [],
   "source": [
    "all_names = set(data['departure'].unique()).union(data['arrival'].unique())"
   ]
  },
  {
   "cell_type": "code",
   "execution_count": 8,
   "metadata": {},
   "outputs": [
    {
     "data": {
      "text/plain": [
       "951"
      ]
     },
     "execution_count": 8,
     "metadata": {},
     "output_type": "execute_result"
    }
   ],
   "source": [
    "len(all_names)"
   ]
  },
  {
   "cell_type": "code",
   "execution_count": 9,
   "metadata": {},
   "outputs": [],
   "source": [
    "name2id = {name: i for i, name in enumerate(all_names)}\n",
    "id2name = {i: name for name, i in name2id.items()}"
   ]
  },
  {
   "cell_type": "code",
   "execution_count": 10,
   "metadata": {},
   "outputs": [],
   "source": [
    "# For the first run sum all trasport types\n",
    "grouped_df = data.groupby(['departure', 'arrival'])['passengers'].sum().reset_index()"
   ]
  },
  {
   "cell_type": "code",
   "execution_count": 11,
   "metadata": {},
   "outputs": [
    {
     "data": {
      "text/html": [
       "<div>\n",
       "<style scoped>\n",
       "    .dataframe tbody tr th:only-of-type {\n",
       "        vertical-align: middle;\n",
       "    }\n",
       "\n",
       "    .dataframe tbody tr th {\n",
       "        vertical-align: top;\n",
       "    }\n",
       "\n",
       "    .dataframe thead th {\n",
       "        text-align: right;\n",
       "    }\n",
       "</style>\n",
       "<table border=\"1\" class=\"dataframe\">\n",
       "  <thead>\n",
       "    <tr style=\"text-align: right;\">\n",
       "      <th></th>\n",
       "      <th>departure</th>\n",
       "      <th>arrival</th>\n",
       "      <th>passengers</th>\n",
       "    </tr>\n",
       "  </thead>\n",
       "  <tbody>\n",
       "    <tr>\n",
       "      <th>0</th>\n",
       "      <td>Абакан</td>\n",
       "      <td>Анапа</td>\n",
       "      <td>80</td>\n",
       "    </tr>\n",
       "    <tr>\n",
       "      <th>1</th>\n",
       "      <td>Абакан</td>\n",
       "      <td>Анжеро-Судженск</td>\n",
       "      <td>20</td>\n",
       "    </tr>\n",
       "    <tr>\n",
       "      <th>2</th>\n",
       "      <td>Абакан</td>\n",
       "      <td>Артышта</td>\n",
       "      <td>14</td>\n",
       "    </tr>\n",
       "    <tr>\n",
       "      <th>3</th>\n",
       "      <td>Абакан</td>\n",
       "      <td>Ачинск</td>\n",
       "      <td>374</td>\n",
       "    </tr>\n",
       "    <tr>\n",
       "      <th>4</th>\n",
       "      <td>Абакан</td>\n",
       "      <td>Барнаул</td>\n",
       "      <td>1151</td>\n",
       "    </tr>\n",
       "  </tbody>\n",
       "</table>\n",
       "</div>"
      ],
      "text/plain": [
       "  departure          arrival  passengers\n",
       "0    Абакан            Анапа          80\n",
       "1    Абакан  Анжеро-Судженск          20\n",
       "2    Абакан          Артышта          14\n",
       "3    Абакан           Ачинск         374\n",
       "4    Абакан          Барнаул        1151"
      ]
     },
     "execution_count": 11,
     "metadata": {},
     "output_type": "execute_result"
    }
   ],
   "source": [
    "grouped_df.head()"
   ]
  },
  {
   "cell_type": "code",
   "execution_count": 12,
   "metadata": {},
   "outputs": [
    {
     "data": {
      "text/plain": [
       "(15572, 3)"
      ]
     },
     "execution_count": 12,
     "metadata": {},
     "output_type": "execute_result"
    }
   ],
   "source": [
    "grouped_df.shape"
   ]
  },
  {
   "cell_type": "code",
   "execution_count": 13,
   "metadata": {},
   "outputs": [
    {
     "data": {
      "text/plain": [
       "(17388, 4)"
      ]
     },
     "execution_count": 13,
     "metadata": {},
     "output_type": "execute_result"
    }
   ],
   "source": [
    "data.shape"
   ]
  },
  {
   "cell_type": "markdown",
   "metadata": {},
   "source": [
    "# Init graph"
   ]
  },
  {
   "cell_type": "code",
   "execution_count": 14,
   "metadata": {},
   "outputs": [],
   "source": [
    "edges = [(name2id[d], name2id[a]) for d, a in grouped_df[['departure', 'arrival']].values]"
   ]
  },
  {
   "cell_type": "code",
   "execution_count": 15,
   "metadata": {},
   "outputs": [],
   "source": [
    "G = igraph.Graph(directed=True)"
   ]
  },
  {
   "cell_type": "code",
   "execution_count": 16,
   "metadata": {},
   "outputs": [],
   "source": [
    "G.add_vertices(list(range(len(all_names))))"
   ]
  },
  {
   "cell_type": "code",
   "execution_count": 17,
   "metadata": {},
   "outputs": [],
   "source": [
    "G.add_edges(edges)"
   ]
  },
  {
   "cell_type": "code",
   "execution_count": 18,
   "metadata": {},
   "outputs": [],
   "source": [
    "G.es['weight'] = (grouped_df['passengers'] / 30).to_list()"
   ]
  },
  {
   "cell_type": "code",
   "execution_count": 19,
   "metadata": {},
   "outputs": [
    {
     "data": {
      "text/plain": [
       "'IGRAPH DNW- 951 15572 -- \\n+ attr: name (v), weight (e)'"
      ]
     },
     "execution_count": 19,
     "metadata": {},
     "output_type": "execute_result"
    }
   ],
   "source": [
    "G.summary()"
   ]
  },
  {
   "cell_type": "code",
   "execution_count": 20,
   "metadata": {},
   "outputs": [
    {
     "data": {
      "image/png": "[encoded data removed]",
      "text/plain": [
       "<Figure size 720x360 with 1 Axes>"
      ]
     },
     "metadata": {
      "needs_background": "light"
     },
     "output_type": "display_data"
    }
   ],
   "source": [
    "dd = G.degree_distribution()\n",
    "\n",
    "bins = [b for b in dd.bins()]\n",
    "plt.figure(figsize=(10, 5))\n",
    "plt.scatter([l for l, r, b in bins], [b for l, r, b in bins], marker='.');\n",
    "ax = plt.gca()\n",
    "ax.set_xscale('log');\n",
    "ax.grid()\n",
    "plt.ylim([-1, 20]);"
   ]
  },
  {
   "cell_type": "markdown",
   "metadata": {},
   "source": [
    "# INIT Cities"
   ]
  },
  {
   "cell_type": "markdown",
   "metadata": {},
   "source": [
    "### Real data"
   ]
  },
  {
   "cell_type": "code",
   "execution_count": 28,
   "metadata": {},
   "outputs": [
    {
     "data": {
      "text/html": [
       "<div>\n",
       "<style scoped>\n",
       "    .dataframe tbody tr th:only-of-type {\n",
       "        vertical-align: middle;\n",
       "    }\n",
       "\n",
       "    .dataframe tbody tr th {\n",
       "        vertical-align: top;\n",
       "    }\n",
       "\n",
       "    .dataframe thead th {\n",
       "        text-align: right;\n",
       "    }\n",
       "</style>\n",
       "<table border=\"1\" class=\"dataframe\">\n",
       "  <thead>\n",
       "    <tr style=\"text-align: right;\">\n",
       "      <th></th>\n",
       "      <th>lat</th>\n",
       "      <th>lng</th>\n",
       "      <th>name</th>\n",
       "      <th>osm_accuracy</th>\n",
       "      <th>population</th>\n",
       "    </tr>\n",
       "  </thead>\n",
       "  <tbody>\n",
       "    <tr>\n",
       "      <th>0</th>\n",
       "      <td>52.651055</td>\n",
       "      <td>90.101159</td>\n",
       "      <td>Абаза</td>\n",
       "      <td>0.593508</td>\n",
       "      <td>17111</td>\n",
       "    </tr>\n",
       "    <tr>\n",
       "      <th>1</th>\n",
       "      <td>53.720902</td>\n",
       "      <td>91.442435</td>\n",
       "      <td>Абакан</td>\n",
       "      <td>0.609791</td>\n",
       "      <td>165183</td>\n",
       "    </tr>\n",
       "    <tr>\n",
       "      <th>2</th>\n",
       "      <td>53.682800</td>\n",
       "      <td>53.655701</td>\n",
       "      <td>Абдулино</td>\n",
       "      <td>0.587183</td>\n",
       "      <td>20663</td>\n",
       "    </tr>\n",
       "    <tr>\n",
       "      <th>3</th>\n",
       "      <td>44.864953</td>\n",
       "      <td>38.157819</td>\n",
       "      <td>Абинск</td>\n",
       "      <td>0.597864</td>\n",
       "      <td>34926</td>\n",
       "    </tr>\n",
       "    <tr>\n",
       "      <th>4</th>\n",
       "      <td>56.525460</td>\n",
       "      <td>52.997251</td>\n",
       "      <td>Агрыз</td>\n",
       "      <td>0.596615</td>\n",
       "      <td>19299</td>\n",
       "    </tr>\n",
       "  </tbody>\n",
       "</table>\n",
       "</div>"
      ],
      "text/plain": [
       "         lat        lng      name  osm_accuracy  population\n",
       "0  52.651055  90.101159     Абаза      0.593508       17111\n",
       "1  53.720902  91.442435    Абакан      0.609791      165183\n",
       "2  53.682800  53.655701  Абдулино      0.587183       20663\n",
       "3  44.864953  38.157819    Абинск      0.597864       34926\n",
       "4  56.525460  52.997251     Агрыз      0.596615       19299"
      ]
     },
     "execution_count": 28,
     "metadata": {},
     "output_type": "execute_result"
    }
   ],
   "source": [
    "cities = pd.read_csv(path_cities)\n",
    "cities.head()"
   ]
  },
  {
   "cell_type": "code",
   "execution_count": 29,
   "metadata": {},
   "outputs": [],
   "source": [
    "name2population = {name: population for name, population in cities[['name', 'population']].values}"
   ]
  },
  {
   "cell_type": "code",
   "execution_count": 37,
   "metadata": {},
   "outputs": [],
   "source": [
    "# TODO: change 1 and 0 to infected and recovered\n",
    "id2City = {i: model.City(name, name2population[name], 1, 0) for i, name in id2name.items()}"
   ]
  },
  {
   "cell_type": "markdown",
   "metadata": {},
   "source": [
    "# Iters"
   ]
  },
  {
   "cell_type": "code",
   "execution_count": 38,
   "metadata": {},
   "outputs": [],
   "source": [
    "# TODO: choose realistic numbers\n",
    "contact_rate, recovery_rate = 10, 10"
   ]
  },
  {
   "cell_type": "code",
   "execution_count": 39,
   "metadata": {},
   "outputs": [
    {
     "name": "stderr",
     "output_type": "stream",
     "text": [
      "100%|██████████| 10/10 [00:06<00:00,  1.44it/s]\n"
     ]
    }
   ],
   "source": [
    "rows = []\n",
    "def dumper(niter, cid, cname, s, i, r):\n",
    "    rows.append((niter, cid, cname, s, i, r))\n",
    "\n",
    "NITER = 10 # Days\n",
    "S = None\n",
    "I = None\n",
    "R = None\n",
    "for day in tqdm.tqdm(range(NITER)):\n",
    "    for city_id in G.vs:\n",
    "        # update SIR\n",
    "        city = id2City[city_id.index]\n",
    "\n",
    "        sir = model.SIR(city.population, city.infected, city.recovered,\n",
    "                  contact_rate, recovery_rate)\n",
    "        S, I, R = sir.run(1)\n",
    "        city.infected = I[0]\n",
    "        city.recovered = R[0]\n",
    "\n",
    "        # save step result for sity\n",
    "        dumper(day, city_id.index, city.name, S[0], I[0], R[0])\n",
    "\n",
    "        # send\n",
    "        # for every departure sample number of infected and recovered\n",
    "    for city_id in G.vs:\n",
    "        city = id2City[city_id.index]\n",
    "        for dest_city_id in G.successors(city_id):\n",
    "            edge_id = G.get_eid(city_id, dest_city_id)\n",
    "\n",
    "            # TODO: split by individual vehicles\n",
    "            ntravelers = G.es['weight'][edge_id]\n",
    "\n",
    "            dest_city = id2City[dest_city_id]\n",
    "            dest_city.population += ntravelers\n",
    "\n",
    "            inf_t, rec_t = city.send_people(ntravelers)\n",
    "\n",
    "            # receive\n",
    "            dest_city.infected += inf_t\n",
    "            dest_city.recovered += rec_t"
   ]
  },
  {
   "cell_type": "code",
   "execution_count": 40,
   "metadata": {},
   "outputs": [
    {
     "data": {
      "text/plain": [
       "(array([425907.7]), array([0.]), array([24.]))"
      ]
     },
     "execution_count": 40,
     "metadata": {},
     "output_type": "execute_result"
    }
   ],
   "source": [
    "S, R, I"
   ]
  },
  {
   "cell_type": "code",
   "execution_count": 41,
   "metadata": {},
   "outputs": [
    {
     "data": {
      "text/plain": [
       "[(9, 941, 'Ставрополь', 70250.4, 1.0, 0.0),\n",
       " (9, 942, 'Новотроицк', 98213.4000000001, 1.0, 0.0),\n",
       " (9, 943, 'Котово', 33964.99999999999, 1.0, 0.0),\n",
       " (9, 944, 'Кораблино', 12816.300000000023, 1.0, 0.0),\n",
       " (9, 945, 'Лебедянь', 33610.50000000001, 1.0, 0.0),\n",
       " (9, 946, 'Севастополь', 386897.80000000115, 1.0, 0.0),\n",
       " (9, 947, 'Яранск', 17566.40000000001, 1.0, 0.0),\n",
       " (9, 948, 'Туруханск', 6341.200000000004, 0.0, 0.0),\n",
       " (9, 949, 'Железногорск', 30378.399999999954, 1.0, 0.0),\n",
       " (9, 950, 'Улан-Удэ', 425907.70000000094, 24.0, 0.0)]"
      ]
     },
     "execution_count": 41,
     "metadata": {},
     "output_type": "execute_result"
    }
   ],
   "source": [
    "rows[-10:]"
   ]
  },
  {
   "cell_type": "code",
   "execution_count": 125,
   "metadata": {},
   "outputs": [],
   "source": [
    "dumpdf = pd.DataFrame(rows, columns=['n_iter', 'city_id', 'name', 'suspected', 'infected', 'recovered'])"
   ]
  },
  {
   "cell_type": "code",
   "execution_count": 126,
   "metadata": {},
   "outputs": [
    {
     "data": {
      "text/html": [
       "<div>\n",
       "<style scoped>\n",
       "    .dataframe tbody tr th:only-of-type {\n",
       "        vertical-align: middle;\n",
       "    }\n",
       "\n",
       "    .dataframe tbody tr th {\n",
       "        vertical-align: top;\n",
       "    }\n",
       "\n",
       "    .dataframe thead th {\n",
       "        text-align: right;\n",
       "    }\n",
       "</style>\n",
       "<table border=\"1\" class=\"dataframe\">\n",
       "  <thead>\n",
       "    <tr style=\"text-align: right;\">\n",
       "      <th></th>\n",
       "      <th>n_iter</th>\n",
       "      <th>city_id</th>\n",
       "      <th>name</th>\n",
       "      <th>suspected</th>\n",
       "      <th>infected</th>\n",
       "      <th>recovered</th>\n",
       "    </tr>\n",
       "  </thead>\n",
       "  <tbody>\n",
       "    <tr>\n",
       "      <th>0</th>\n",
       "      <td>0</td>\n",
       "      <td>0</td>\n",
       "      <td>Коряжма</td>\n",
       "      <td>39628.0</td>\n",
       "      <td>1.0</td>\n",
       "      <td>0.0</td>\n",
       "    </tr>\n",
       "    <tr>\n",
       "      <th>1</th>\n",
       "      <td>0</td>\n",
       "      <td>1</td>\n",
       "      <td>Северобайкальск</td>\n",
       "      <td>23672.0</td>\n",
       "      <td>1.0</td>\n",
       "      <td>0.0</td>\n",
       "    </tr>\n",
       "    <tr>\n",
       "      <th>2</th>\n",
       "      <td>0</td>\n",
       "      <td>2</td>\n",
       "      <td>Кувандык</td>\n",
       "      <td>26175.0</td>\n",
       "      <td>1.0</td>\n",
       "      <td>0.0</td>\n",
       "    </tr>\n",
       "    <tr>\n",
       "      <th>3</th>\n",
       "      <td>0</td>\n",
       "      <td>3</td>\n",
       "      <td>Мама</td>\n",
       "      <td>14431.0</td>\n",
       "      <td>1.0</td>\n",
       "      <td>0.0</td>\n",
       "    </tr>\n",
       "    <tr>\n",
       "      <th>4</th>\n",
       "      <td>0</td>\n",
       "      <td>4</td>\n",
       "      <td>Новоабзаково</td>\n",
       "      <td>1330.0</td>\n",
       "      <td>1.0</td>\n",
       "      <td>0.0</td>\n",
       "    </tr>\n",
       "  </tbody>\n",
       "</table>\n",
       "</div>"
      ],
      "text/plain": [
       "   n_iter  city_id             name  suspected  infected  recovered\n",
       "0       0        0          Коряжма    39628.0       1.0        0.0\n",
       "1       0        1  Северобайкальск    23672.0       1.0        0.0\n",
       "2       0        2         Кувандык    26175.0       1.0        0.0\n",
       "3       0        3             Мама    14431.0       1.0        0.0\n",
       "4       0        4     Новоабзаково     1330.0       1.0        0.0"
      ]
     },
     "execution_count": 126,
     "metadata": {},
     "output_type": "execute_result"
    }
   ],
   "source": [
    "dumpdf.head()"
   ]
  },
  {
   "cell_type": "code",
   "execution_count": 127,
   "metadata": {},
   "outputs": [],
   "source": [
    "dumpdf.to_csv('../data/dummy_sim_res.csv')"
   ]
  }
 ],
 "metadata": {
  "kernelspec": {
   "display_name": "Python 3",
   "language": "python",
   "name": "python3"
  },
  "language_info": {
   "codemirror_mode": {
    "name": "ipython",
    "version": 3
   },
   "file_extension": ".py",
   "mimetype": "text/x-python",
   "name": "python",
   "nbconvert_exporter": "python",
   "pygments_lexer": "ipython3",
   "version": "3.7.3"
  }
 },
 "nbformat": 4,
 "nbformat_minor": 4
}
