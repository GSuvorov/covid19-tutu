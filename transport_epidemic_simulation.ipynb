{
 "cells": [
  {
   "cell_type": "code",
   "execution_count": 1,
   "metadata": {},
   "outputs": [],
   "source": [
    "import numpy as np\n",
    "import pandas as pd\n",
    "import matplotlib.pyplot as plt\n",
    "%matplotlib inline\n",
    "import igraph\n",
    "from supervenn import supervenn"
   ]
  },
  {
   "cell_type": "code",
   "execution_count": 2,
   "metadata": {},
   "outputs": [],
   "source": [
    "data = pd.read_csv('/home/sv9t/transport_traffic.csv')"
   ]
  },
  {
   "cell_type": "code",
   "execution_count": 3,
   "metadata": {},
   "outputs": [
    {
     "data": {
      "text/html": [
       "<div>\n",
       "<style scoped>\n",
       "    .dataframe tbody tr th:only-of-type {\n",
       "        vertical-align: middle;\n",
       "    }\n",
       "\n",
       "    .dataframe tbody tr th {\n",
       "        vertical-align: top;\n",
       "    }\n",
       "\n",
       "    .dataframe thead th {\n",
       "        text-align: right;\n",
       "    }\n",
       "</style>\n",
       "<table border=\"1\" class=\"dataframe\">\n",
       "  <thead>\n",
       "    <tr style=\"text-align: right;\">\n",
       "      <th></th>\n",
       "      <th>transport</th>\n",
       "      <th>departure</th>\n",
       "      <th>arrival</th>\n",
       "      <th>passengers</th>\n",
       "    </tr>\n",
       "  </thead>\n",
       "  <tbody>\n",
       "    <tr>\n",
       "      <th>0</th>\n",
       "      <td>avia</td>\n",
       "      <td>Москва</td>\n",
       "      <td>Симферополь (Крым)</td>\n",
       "      <td>159441</td>\n",
       "    </tr>\n",
       "    <tr>\n",
       "      <th>1</th>\n",
       "      <td>avia</td>\n",
       "      <td>Москва</td>\n",
       "      <td>Сочи</td>\n",
       "      <td>149299</td>\n",
       "    </tr>\n",
       "    <tr>\n",
       "      <th>2</th>\n",
       "      <td>avia</td>\n",
       "      <td>Симферополь (Крым)</td>\n",
       "      <td>Москва</td>\n",
       "      <td>155822</td>\n",
       "    </tr>\n",
       "    <tr>\n",
       "      <th>3</th>\n",
       "      <td>avia</td>\n",
       "      <td>Сочи</td>\n",
       "      <td>Москва</td>\n",
       "      <td>143298</td>\n",
       "    </tr>\n",
       "    <tr>\n",
       "      <th>4</th>\n",
       "      <td>avia</td>\n",
       "      <td>Санкт-Петербург</td>\n",
       "      <td>Москва</td>\n",
       "      <td>135749</td>\n",
       "    </tr>\n",
       "  </tbody>\n",
       "</table>\n",
       "</div>"
      ],
      "text/plain": [
       "  transport           departure             arrival  passengers\n",
       "0      avia              Москва  Симферополь (Крым)      159441\n",
       "1      avia              Москва                Сочи      149299\n",
       "2      avia  Симферополь (Крым)              Москва      155822\n",
       "3      avia                Сочи              Москва      143298\n",
       "4      avia     Санкт-Петербург              Москва      135749"
      ]
     },
     "execution_count": 3,
     "metadata": {},
     "output_type": "execute_result"
    }
   ],
   "source": [
    "data.head()"
   ]
  },
  {
   "cell_type": "code",
   "execution_count": 4,
   "metadata": {},
   "outputs": [
    {
     "data": {
      "image/png": "[encoded data removed]",
      "text/plain": [
       "<Figure size 576x360 with 4 Axes>"
      ]
     },
     "metadata": {
      "needs_background": "light"
     },
     "output_type": "display_data"
    }
   ],
   "source": [
    "sets = [set(data['departure'].unique()), set(data['arrival'].unique())]\n",
    "supervenn(sets, set_annotations=['departure', 'arrival'])"
   ]
  },
  {
   "cell_type": "code",
   "execution_count": 5,
   "metadata": {},
   "outputs": [
    {
     "data": {
      "text/plain": [
       "array(['avia', 'bus', 'train'], dtype=object)"
      ]
     },
     "execution_count": 5,
     "metadata": {},
     "output_type": "execute_result"
    }
   ],
   "source": [
    "data['transport'].unique()"
   ]
  },
  {
   "cell_type": "code",
   "execution_count": 6,
   "metadata": {},
   "outputs": [],
   "source": [
    "all_names = set(data['departure'].unique()).union(data['arrival'].unique())"
   ]
  },
  {
   "cell_type": "code",
   "execution_count": 7,
   "metadata": {},
   "outputs": [
    {
     "data": {
      "text/plain": [
       "951"
      ]
     },
     "execution_count": 7,
     "metadata": {},
     "output_type": "execute_result"
    }
   ],
   "source": [
    "len(all_names)"
   ]
  },
  {
   "cell_type": "code",
   "execution_count": 8,
   "metadata": {},
   "outputs": [],
   "source": [
    "name2id = {name: i for i, name in enumerate(sorted(all_names))}\n",
    "id2name = {i: name for name, i in name2id.items()}"
   ]
  },
  {
   "cell_type": "code",
   "execution_count": 9,
   "metadata": {},
   "outputs": [],
   "source": [
    "# For the first run sum all trasport types\n",
    "grouped_df = data.groupby(['departure', 'arrival'])['passengers'].sum().reset_index()"
   ]
  },
  {
   "cell_type": "code",
   "execution_count": 10,
   "metadata": {},
   "outputs": [
    {
     "data": {
      "text/html": [
       "<div>\n",
       "<style scoped>\n",
       "    .dataframe tbody tr th:only-of-type {\n",
       "        vertical-align: middle;\n",
       "    }\n",
       "\n",
       "    .dataframe tbody tr th {\n",
       "        vertical-align: top;\n",
       "    }\n",
       "\n",
       "    .dataframe thead th {\n",
       "        text-align: right;\n",
       "    }\n",
       "</style>\n",
       "<table border=\"1\" class=\"dataframe\">\n",
       "  <thead>\n",
       "    <tr style=\"text-align: right;\">\n",
       "      <th></th>\n",
       "      <th>departure</th>\n",
       "      <th>arrival</th>\n",
       "      <th>passengers</th>\n",
       "    </tr>\n",
       "  </thead>\n",
       "  <tbody>\n",
       "    <tr>\n",
       "      <th>0</th>\n",
       "      <td>Абакан</td>\n",
       "      <td>Анапа</td>\n",
       "      <td>80</td>\n",
       "    </tr>\n",
       "    <tr>\n",
       "      <th>1</th>\n",
       "      <td>Абакан</td>\n",
       "      <td>Анжеро-Судженск</td>\n",
       "      <td>20</td>\n",
       "    </tr>\n",
       "    <tr>\n",
       "      <th>2</th>\n",
       "      <td>Абакан</td>\n",
       "      <td>Артышта</td>\n",
       "      <td>14</td>\n",
       "    </tr>\n",
       "    <tr>\n",
       "      <th>3</th>\n",
       "      <td>Абакан</td>\n",
       "      <td>Ачинск</td>\n",
       "      <td>374</td>\n",
       "    </tr>\n",
       "    <tr>\n",
       "      <th>4</th>\n",
       "      <td>Абакан</td>\n",
       "      <td>Барнаул</td>\n",
       "      <td>1151</td>\n",
       "    </tr>\n",
       "  </tbody>\n",
       "</table>\n",
       "</div>"
      ],
      "text/plain": [
       "  departure          arrival  passengers\n",
       "0    Абакан            Анапа          80\n",
       "1    Абакан  Анжеро-Судженск          20\n",
       "2    Абакан          Артышта          14\n",
       "3    Абакан           Ачинск         374\n",
       "4    Абакан          Барнаул        1151"
      ]
     },
     "execution_count": 10,
     "metadata": {},
     "output_type": "execute_result"
    }
   ],
   "source": [
    "grouped_df.head()"
   ]
  },
  {
   "cell_type": "code",
   "execution_count": 11,
   "metadata": {},
   "outputs": [
    {
     "data": {
      "text/plain": [
       "(15572, 3)"
      ]
     },
     "execution_count": 11,
     "metadata": {},
     "output_type": "execute_result"
    }
   ],
   "source": [
    "grouped_df.shape"
   ]
  },
  {
   "cell_type": "code",
   "execution_count": 12,
   "metadata": {},
   "outputs": [
    {
     "data": {
      "text/plain": [
       "(17388, 4)"
      ]
     },
     "execution_count": 12,
     "metadata": {},
     "output_type": "execute_result"
    }
   ],
   "source": [
    "data.shape"
   ]
  },
  {
   "cell_type": "markdown",
   "metadata": {},
   "source": [
    "# Init graph"
   ]
  },
  {
   "cell_type": "code",
   "execution_count": 13,
   "metadata": {},
   "outputs": [],
   "source": [
    "edges = [(name2id[d], name2id[a]) for d, a in grouped_df[['departure', 'arrival']].values]"
   ]
  },
  {
   "cell_type": "code",
   "execution_count": 14,
   "metadata": {},
   "outputs": [],
   "source": [
    "G = igraph.Graph(directed=True)"
   ]
  },
  {
   "cell_type": "code",
   "execution_count": 15,
   "metadata": {},
   "outputs": [],
   "source": [
    "G.add_vertices(list(range(len(all_names))))"
   ]
  },
  {
   "cell_type": "code",
   "execution_count": 16,
   "metadata": {},
   "outputs": [],
   "source": [
    "G.add_edges(edges)"
   ]
  },
  {
   "cell_type": "code",
   "execution_count": 17,
   "metadata": {},
   "outputs": [],
   "source": [
    "G.es['weight'] = (grouped_df['passengers'] // 30).to_list()"
   ]
  },
  {
   "cell_type": "code",
   "execution_count": 18,
   "metadata": {},
   "outputs": [
    {
     "data": {
      "text/plain": [
       "'IGRAPH DNW- 951 15572 -- \\n+ attr: name (v), weight (e)'"
      ]
     },
     "execution_count": 18,
     "metadata": {},
     "output_type": "execute_result"
    }
   ],
   "source": [
    "G.summary()"
   ]
  },
  {
   "cell_type": "code",
   "execution_count": 19,
   "metadata": {},
   "outputs": [
    {
     "data": {
      "image/png": "[encoded data removed]",
      "text/plain": [
       "<Figure size 720x360 with 1 Axes>"
      ]
     },
     "metadata": {
      "needs_background": "light"
     },
     "output_type": "display_data"
    }
   ],
   "source": [
    "dd = G.degree_distribution()\n",
    "\n",
    "bins = [b for b in dd.bins()]\n",
    "plt.figure(figsize=(10, 5))\n",
    "plt.scatter([l for l, r, b in bins], [b for l, r, b in bins], marker='.');\n",
    "ax = plt.gca()\n",
    "ax.set_xscale('log');"
   ]
  },
  {
   "cell_type": "markdown",
   "metadata": {},
   "source": [
    "# SIR model"
   ]
  },
  {
   "cell_type": "code",
   "execution_count": 74,
   "metadata": {},
   "outputs": [],
   "source": [
    "# Based on https://github.com/DmitrySerg/COVID-19/blob/master/models/COVID-19.ipynb\n",
    "from scipy.integrate import odeint\n",
    "\n",
    "\n",
    "class SIR():\n",
    "    def __init__(self, pupulation, infected, recovered, beta, gamma):\n",
    "        \"\"\"\n",
    "        N - Total population \n",
    "        I0 - Initial number of infected individuals, \n",
    "        S0 - Everyone else is susceptible to infection initially\n",
    "        Contact rate, beta, and mean recovery rate, gamma, (in 1/days)\n",
    "        \"\"\"\n",
    "        self.N = pupulation\n",
    "        self.I0 = infected\n",
    "        self.R = recovered\n",
    "        self.beta = beta\n",
    "        self.gamma = gamma\n",
    "        self.S0 = pupulation - infected - recovered\n",
    "#         self.days = days\n",
    "\n",
    "    @staticmethod\n",
    "    def _deriv(y, t, N, beta, gamma):\n",
    "        \"\"\"\n",
    "        The SIR model differential equations\n",
    "        \"\"\"\n",
    "        S, I, R = y\n",
    "        dSdt = -beta[int(t)] * S * I / N\n",
    "        dIdt = beta[int(t)] * S * I / N - gamma * I\n",
    "        dRdt = gamma * I\n",
    "        return dSdt, dIdt, dRdt\n",
    "\n",
    "    def run(self, days):\n",
    "        # Initial conditions vector\n",
    "        y0 = [self.S0, self.I0, self.R]\n",
    "        # Integrating the SIR equations over the time grid, t\n",
    "        t = list(range(0, days + 1))\n",
    "        # Getting results\n",
    "#         print(y0)\n",
    "        result = odeint(self._deriv, y0, t, args=(self.N, self.beta, self.gamma))\n",
    "        S, I, R = result.T\n",
    "        return S, I, R\n",
    "\n",
    "    @staticmethod\n",
    "    def plot_results(S, I, R):\n",
    "        fig = plt.figure(facecolor='w')\n",
    "        ax = fig.add_subplot(111, axisbelow=True)\n",
    "        ax.plot(S/1000, 'b', alpha=0.5, lw=2, label='Susceptible')\n",
    "        ax.plot(I/1000, 'r', alpha=0.5, lw=2, label='Infected')\n",
    "        ax.plot(R/1000, 'g', alpha=0.5, lw=2, label='Recovered')\n",
    "        ax.set_xlabel('Time /days')\n",
    "        ax.set_ylabel('Number (1000s)')\n",
    "        ax.yaxis.set_tick_params(length=0)\n",
    "        ax.xaxis.set_tick_params(length=0)\n",
    "        ax.grid(b=True, which='major', c='w', lw=2, ls='-')\n",
    "        legend = ax.legend()\n",
    "        legend.get_frame().set_alpha(0.5)\n",
    "        for spine in ('top', 'right', 'bottom', 'left'):\n",
    "            ax.spines[spine].set_visible(False)\n",
    "        plt.show()"
   ]
  },
  {
   "cell_type": "markdown",
   "metadata": {},
   "source": [
    "# City class"
   ]
  },
  {
   "cell_type": "code",
   "execution_count": 21,
   "metadata": {},
   "outputs": [],
   "source": [
    "class City():\n",
    "    def __init__(self, name, population, infected, recovered):\n",
    "        self.name = name\n",
    "        self.population = population\n",
    "        self.infected = infected\n",
    "        self.recovered = recovered\n",
    "        \n",
    "    def _sample_infected(self, n):\n",
    "        # TODO: make it more realistic (maybe random sampled)\n",
    "        # TODO: check if it sends more then exists\n",
    "        return n * self.infected // self.population\n",
    "    \n",
    "    def _sample_recovered(self, n):\n",
    "        # TODO: make it more realistic (maybe random sampled)\n",
    "        # TODO: check if it sends more then exists\n",
    "        return n * self.recovered // self.population\n",
    "    \n",
    "    def send_people(self, n):\n",
    "        inf_t = self._sample_infected(n)\n",
    "        rec_t = self._sample_recovered(n)\n",
    "        self.infected -= inf_t\n",
    "        self.recovered -= rec_t\n",
    "        self.population -= n\n",
    "#         if self.population <= 0:\n",
    "#             print(self.name + ' population dropped to {}'.format(self.population))\n",
    "        return max(inf_t, 0), max(rec_t, 0)\n",
    "        "
   ]
  },
  {
   "cell_type": "markdown",
   "metadata": {},
   "source": [
    "# INIT Cities"
   ]
  },
  {
   "cell_type": "markdown",
   "metadata": {},
   "source": [
    "### Real data"
   ]
  },
  {
   "cell_type": "code",
   "execution_count": 42,
   "metadata": {},
   "outputs": [
    {
     "data": {
      "text/html": [
       "<div>\n",
       "<style scoped>\n",
       "    .dataframe tbody tr th:only-of-type {\n",
       "        vertical-align: middle;\n",
       "    }\n",
       "\n",
       "    .dataframe tbody tr th {\n",
       "        vertical-align: top;\n",
       "    }\n",
       "\n",
       "    .dataframe thead th {\n",
       "        text-align: right;\n",
       "    }\n",
       "</style>\n",
       "<table border=\"1\" class=\"dataframe\">\n",
       "  <thead>\n",
       "    <tr style=\"text-align: right;\">\n",
       "      <th></th>\n",
       "      <th>lat</th>\n",
       "      <th>lng</th>\n",
       "      <th>name</th>\n",
       "      <th>osm_accuracy</th>\n",
       "      <th>population</th>\n",
       "    </tr>\n",
       "  </thead>\n",
       "  <tbody>\n",
       "    <tr>\n",
       "      <th>0</th>\n",
       "      <td>52.651055</td>\n",
       "      <td>90.101159</td>\n",
       "      <td>Абаза</td>\n",
       "      <td>0.593508</td>\n",
       "      <td>17111</td>\n",
       "    </tr>\n",
       "    <tr>\n",
       "      <th>1</th>\n",
       "      <td>53.720902</td>\n",
       "      <td>91.442435</td>\n",
       "      <td>Абакан</td>\n",
       "      <td>0.609791</td>\n",
       "      <td>165183</td>\n",
       "    </tr>\n",
       "    <tr>\n",
       "      <th>2</th>\n",
       "      <td>53.682800</td>\n",
       "      <td>53.655701</td>\n",
       "      <td>Абдулино</td>\n",
       "      <td>0.587183</td>\n",
       "      <td>20663</td>\n",
       "    </tr>\n",
       "    <tr>\n",
       "      <th>3</th>\n",
       "      <td>44.864953</td>\n",
       "      <td>38.157819</td>\n",
       "      <td>Абинск</td>\n",
       "      <td>0.597864</td>\n",
       "      <td>34926</td>\n",
       "    </tr>\n",
       "    <tr>\n",
       "      <th>4</th>\n",
       "      <td>56.525460</td>\n",
       "      <td>52.997251</td>\n",
       "      <td>Агрыз</td>\n",
       "      <td>0.596615</td>\n",
       "      <td>19299</td>\n",
       "    </tr>\n",
       "  </tbody>\n",
       "</table>\n",
       "</div>"
      ],
      "text/plain": [
       "         lat        lng      name  osm_accuracy  population\n",
       "0  52.651055  90.101159     Абаза      0.593508       17111\n",
       "1  53.720902  91.442435    Абакан      0.609791      165183\n",
       "2  53.682800  53.655701  Абдулино      0.587183       20663\n",
       "3  44.864953  38.157819    Абинск      0.597864       34926\n",
       "4  56.525460  52.997251     Агрыз      0.596615       19299"
      ]
     },
     "execution_count": 42,
     "metadata": {},
     "output_type": "execute_result"
    }
   ],
   "source": [
    "cities = pd.read_csv('../data/cities.csv')\n",
    "cities.head()"
   ]
  },
  {
   "cell_type": "code",
   "execution_count": 43,
   "metadata": {},
   "outputs": [],
   "source": [
    "name2population = {name: population for name, population in cities[['name', 'population']].values}"
   ]
  },
  {
   "cell_type": "markdown",
   "metadata": {},
   "source": [
    "# Iters"
   ]
  },
  {
   "cell_type": "code",
   "execution_count": 76,
   "metadata": {},
   "outputs": [],
   "source": [
    "from scipy.special import logit, expit"
   ]
  },
  {
   "cell_type": "code",
   "execution_count": 77,
   "metadata": {},
   "outputs": [],
   "source": [
    "max_R0 = 5\n",
    "min_R0 = 1.1\n",
    "\n",
    "beta = expit(np.linspace(-5, 3, num=30))[::-1]\n",
    "beta = beta * (max_R0 - min_R0) + min_R0\n",
    "beta = np.concatenate((beta, np.repeat(beta[-1], 400-len(beta))))"
   ]
  },
  {
   "cell_type": "code",
   "execution_count": 92,
   "metadata": {},
   "outputs": [],
   "source": [
    "# TODO: choose realistic numbers\n",
    "contact_rate, recovery_rate = beta/ 14, 1./20"
   ]
  },
  {
   "cell_type": "code",
   "execution_count": 93,
   "metadata": {
    "scrolled": true
   },
   "outputs": [
    {
     "name": "stdout",
     "output_type": "stream",
     "text": [
      "CPU times: user 28.9 s, sys: 0 ns, total: 28.9 s\n",
      "Wall time: 28.9 s\n"
     ]
    }
   ],
   "source": [
    "%%time\n",
    "id2City = {i: City(name, name2population[name], 1, 0) for i, name in id2name.items()}\n",
    "rows = []\n",
    "def dumper(niter, cid, cname, s, i, r):\n",
    "    rows.append((niter, cid, cname, s, i, r))\n",
    "\n",
    "NITER = 30 # Days\n",
    "for day in range(NITER):\n",
    "    for city_id in G.vs:\n",
    "        # update SIR\n",
    "        city = id2City[city_id.index]\n",
    "\n",
    "        sir = SIR(city.population, city.infected, city.recovered,\n",
    "                  contact_rate, recovery_rate)\n",
    "        S, I, R = sir.run(1)\n",
    "#         if np.isnan(S[1]):\n",
    "#             print(city.name, day)\n",
    "        city.infected = I[1]\n",
    "        city.recovered = R[1]\n",
    "\n",
    "        # save step result for sity\n",
    "        dumper(day, city_id.index, city.name, S[1], I[1], R[1])\n",
    "\n",
    "        # send\n",
    "        # for every departure sample number of infected and recovered\n",
    "    for city_id in G.vs:\n",
    "        city = id2City[city_id.index]\n",
    "        for dest_city_id in G.successors(city_id):\n",
    "            edge_id = G.get_eid(city_id, dest_city_id)\n",
    "\n",
    "            # TODO: split by individual vehicles\n",
    "            ntravelers = G.es['weight'][edge_id]\n",
    "\n",
    "            dest_city = id2City[dest_city_id]\n",
    "            dest_city.population += ntravelers\n",
    "\n",
    "            inf_t, rec_t = city.send_people(ntravelers)\n",
    "\n",
    "            # receive\n",
    "            dest_city.infected += inf_t\n",
    "            dest_city.recovered += rec_t\n",
    "            dest_city.population += ntravelers\n",
    "        "
   ]
  },
  {
   "cell_type": "code",
   "execution_count": 95,
   "metadata": {},
   "outputs": [],
   "source": [
    "dumpdf = pd.DataFrame(rows, columns=['n_iter', 'city_id', 'name', 'suspected', 'infected', 'recovered'])"
   ]
  },
  {
   "cell_type": "code",
   "execution_count": 96,
   "metadata": {},
   "outputs": [
    {
     "data": {
      "text/html": [
       "<div>\n",
       "<style scoped>\n",
       "    .dataframe tbody tr th:only-of-type {\n",
       "        vertical-align: middle;\n",
       "    }\n",
       "\n",
       "    .dataframe tbody tr th {\n",
       "        vertical-align: top;\n",
       "    }\n",
       "\n",
       "    .dataframe thead th {\n",
       "        text-align: right;\n",
       "    }\n",
       "</style>\n",
       "<table border=\"1\" class=\"dataframe\">\n",
       "  <thead>\n",
       "    <tr style=\"text-align: right;\">\n",
       "      <th></th>\n",
       "      <th>n_iter</th>\n",
       "      <th>city_id</th>\n",
       "      <th>name</th>\n",
       "      <th>suspected</th>\n",
       "      <th>infected</th>\n",
       "      <th>recovered</th>\n",
       "    </tr>\n",
       "  </thead>\n",
       "  <tbody>\n",
       "    <tr>\n",
       "      <th>0</th>\n",
       "      <td>0</td>\n",
       "      <td>0</td>\n",
       "      <td>Абаза</td>\n",
       "      <td>17109.600217</td>\n",
       "      <td>1.341660</td>\n",
       "      <td>0.058124</td>\n",
       "    </tr>\n",
       "    <tr>\n",
       "      <th>1</th>\n",
       "      <td>0</td>\n",
       "      <td>1</td>\n",
       "      <td>Абакан</td>\n",
       "      <td>165181.600187</td>\n",
       "      <td>1.341689</td>\n",
       "      <td>0.058124</td>\n",
       "    </tr>\n",
       "    <tr>\n",
       "      <th>2</th>\n",
       "      <td>0</td>\n",
       "      <td>2</td>\n",
       "      <td>Абдулино</td>\n",
       "      <td>20661.600211</td>\n",
       "      <td>1.341665</td>\n",
       "      <td>0.058124</td>\n",
       "    </tr>\n",
       "    <tr>\n",
       "      <th>3</th>\n",
       "      <td>0</td>\n",
       "      <td>3</td>\n",
       "      <td>Абинск</td>\n",
       "      <td>34924.600200</td>\n",
       "      <td>1.341676</td>\n",
       "      <td>0.058124</td>\n",
       "    </tr>\n",
       "    <tr>\n",
       "      <th>4</th>\n",
       "      <td>0</td>\n",
       "      <td>4</td>\n",
       "      <td>Агрыз</td>\n",
       "      <td>19297.600213</td>\n",
       "      <td>1.341663</td>\n",
       "      <td>0.058124</td>\n",
       "    </tr>\n",
       "  </tbody>\n",
       "</table>\n",
       "</div>"
      ],
      "text/plain": [
       "   n_iter  city_id      name      suspected  infected  recovered\n",
       "0       0        0     Абаза   17109.600217  1.341660   0.058124\n",
       "1       0        1    Абакан  165181.600187  1.341689   0.058124\n",
       "2       0        2  Абдулино   20661.600211  1.341665   0.058124\n",
       "3       0        3    Абинск   34924.600200  1.341676   0.058124\n",
       "4       0        4     Агрыз   19297.600213  1.341663   0.058124"
      ]
     },
     "execution_count": 96,
     "metadata": {},
     "output_type": "execute_result"
    }
   ],
   "source": [
    "dumpdf.head()"
   ]
  },
  {
   "cell_type": "code",
   "execution_count": 97,
   "metadata": {},
   "outputs": [
    {
     "data": {
      "text/plain": [
       "41131.686810642736"
      ]
     },
     "execution_count": 97,
     "metadata": {},
     "output_type": "execute_result"
    }
   ],
   "source": [
    "dumpdf['infected'].max()"
   ]
  },
  {
   "cell_type": "code",
   "execution_count": 98,
   "metadata": {},
   "outputs": [
    {
     "data": {
      "text/html": [
       "<div>\n",
       "<style scoped>\n",
       "    .dataframe tbody tr th:only-of-type {\n",
       "        vertical-align: middle;\n",
       "    }\n",
       "\n",
       "    .dataframe tbody tr th {\n",
       "        vertical-align: top;\n",
       "    }\n",
       "\n",
       "    .dataframe thead th {\n",
       "        text-align: right;\n",
       "    }\n",
       "</style>\n",
       "<table border=\"1\" class=\"dataframe\">\n",
       "  <thead>\n",
       "    <tr style=\"text-align: right;\">\n",
       "      <th></th>\n",
       "      <th>n_iter</th>\n",
       "      <th>city_id</th>\n",
       "      <th>name</th>\n",
       "      <th>suspected</th>\n",
       "      <th>infected</th>\n",
       "      <th>recovered</th>\n",
       "    </tr>\n",
       "  </thead>\n",
       "  <tbody>\n",
       "    <tr>\n",
       "      <th>28078</th>\n",
       "      <td>29</td>\n",
       "      <td>499</td>\n",
       "      <td>Москва</td>\n",
       "      <td>8.912161e+06</td>\n",
       "      <td>41131.686811</td>\n",
       "      <td>6659.470302</td>\n",
       "    </tr>\n",
       "  </tbody>\n",
       "</table>\n",
       "</div>"
      ],
      "text/plain": [
       "       n_iter  city_id    name     suspected      infected    recovered\n",
       "28078      29      499  Москва  8.912161e+06  41131.686811  6659.470302"
      ]
     },
     "execution_count": 98,
     "metadata": {},
     "output_type": "execute_result"
    }
   ],
   "source": [
    "dumpdf[dumpdf['infected'] == dumpdf['infected'].max()]"
   ]
  },
  {
   "cell_type": "code",
   "execution_count": 100,
   "metadata": {},
   "outputs": [],
   "source": [
    "dumpdf.to_csv('../data/dummy_sim_res_better.csv')"
   ]
  }
 ],
 "metadata": {
  "kernelspec": {
   "display_name": "Python (py36venv)",
   "language": "python",
   "name": "py36venv"
  },
  "language_info": {
   "codemirror_mode": {
    "name": "ipython",
    "version": 3
   },
   "file_extension": ".py",
   "mimetype": "text/x-python",
   "name": "python",
   "nbconvert_exporter": "python",
   "pygments_lexer": "ipython3",
   "version": "3.6.10"
  }
 },
 "nbformat": 4,
 "nbformat_minor": 4
}
